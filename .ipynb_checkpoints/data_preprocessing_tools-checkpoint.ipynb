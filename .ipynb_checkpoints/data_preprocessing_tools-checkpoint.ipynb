{
 "cells": [
  {
   "cell_type": "markdown",
   "metadata": {
    "id": "37puETfgRzzg"
   },
   "source": [
    "# Data Preprocessing Tools"
   ]
  },
  {
   "cell_type": "markdown",
   "metadata": {
    "id": "EoRP98MpR-qj"
   },
   "source": [
    "## Importing the libraries"
   ]
  },
  {
   "cell_type": "code",
   "execution_count": 1,
   "metadata": {
    "executionInfo": {
     "elapsed": 255,
     "status": "ok",
     "timestamp": 1641911720798,
     "user": {
      "displayName": "Jhonatan Silva",
      "photoUrl": "https://lh3.googleusercontent.com/a-/AOh14GiC7qvXUzbZzLF0M7CsyVSkzNvxcrj2yiU0aL0f=s64",
      "userId": "03984596319727050126"
     },
     "user_tz": -60
    },
    "id": "b7j8nUx5gLUc"
   },
   "outputs": [],
   "source": [
    "import numpy as np #lib para manipular arrays\n",
    "import matplotlib.pyplot as plt #lib para criacao de graficos\n",
    "import pandas as pd #lib para importar e carregar os datasets"
   ]
  },
  {
   "cell_type": "markdown",
   "metadata": {
    "id": "RopL7tUZSQkT"
   },
   "source": [
    "## Importing the dataset"
   ]
  },
  {
   "cell_type": "code",
   "execution_count": 2,
   "metadata": {
    "executionInfo": {
     "elapsed": 256,
     "status": "ok",
     "timestamp": 1641911723213,
     "user": {
      "displayName": "Jhonatan Silva",
      "photoUrl": "https://lh3.googleusercontent.com/a-/AOh14GiC7qvXUzbZzLF0M7CsyVSkzNvxcrj2yiU0aL0f=s64",
      "userId": "03984596319727050126"
     },
     "user_tz": -60
    },
    "id": "mIskKMutjcNi"
   },
   "outputs": [],
   "source": [
    "dataset = pd.read_csv('Data.csv')\n",
    "x = dataset.iloc[:, :-1].values # X Matrix of Features\n",
    "y = dataset.iloc[:, -1].values # Y Array variavel dependente"
   ]
  },
  {
   "cell_type": "code",
   "execution_count": 3,
   "metadata": {
    "colab": {
     "base_uri": "https://localhost:8080/"
    },
    "executionInfo": {
     "elapsed": 244,
     "status": "ok",
     "timestamp": 1641911725181,
     "user": {
      "displayName": "Jhonatan Silva",
      "photoUrl": "https://lh3.googleusercontent.com/a-/AOh14GiC7qvXUzbZzLF0M7CsyVSkzNvxcrj2yiU0aL0f=s64",
      "userId": "03984596319727050126"
     },
     "user_tz": -60
    },
    "id": "rCbfzhiElgnA",
    "outputId": "3f4b7807-03d2-4680-b4f8-3cbe971bbf3c"
   },
   "outputs": [
    {
     "name": "stdout",
     "output_type": "stream",
     "text": [
      "[['France' 44.0 72000.0]\n",
      " ['Spain' 27.0 48000.0]\n",
      " ['Germany' 30.0 54000.0]\n",
      " ['Spain' 38.0 61000.0]\n",
      " ['Germany' 40.0 nan]\n",
      " ['France' 35.0 58000.0]\n",
      " ['Spain' nan 52000.0]\n",
      " ['France' 48.0 79000.0]\n",
      " ['Germany' 50.0 83000.0]\n",
      " ['France' 37.0 67000.0]]\n"
     ]
    }
   ],
   "source": [
    "print(x)"
   ]
  },
  {
   "cell_type": "code",
   "execution_count": 4,
   "metadata": {
    "colab": {
     "base_uri": "https://localhost:8080/"
    },
    "executionInfo": {
     "elapsed": 245,
     "status": "ok",
     "timestamp": 1641911728603,
     "user": {
      "displayName": "Jhonatan Silva",
      "photoUrl": "https://lh3.googleusercontent.com/a-/AOh14GiC7qvXUzbZzLF0M7CsyVSkzNvxcrj2yiU0aL0f=s64",
      "userId": "03984596319727050126"
     },
     "user_tz": -60
    },
    "id": "MO4Smxonliqx",
    "outputId": "60f56c37-6a29-428d-c7c0-70a9e243890a"
   },
   "outputs": [
    {
     "name": "stdout",
     "output_type": "stream",
     "text": [
      "['No' 'Yes' 'No' 'No' 'Yes' 'Yes' 'No' 'Yes' 'No' 'Yes']\n"
     ]
    }
   ],
   "source": [
    "print(y)"
   ]
  },
  {
   "cell_type": "markdown",
   "metadata": {
    "id": "nhfKXNxlSabC"
   },
   "source": [
    "## Taking care of missing data"
   ]
  },
  {
   "cell_type": "code",
   "execution_count": 5,
   "metadata": {
    "executionInfo": {
     "elapsed": 931,
     "status": "ok",
     "timestamp": 1641911740590,
     "user": {
      "displayName": "Jhonatan Silva",
      "photoUrl": "https://lh3.googleusercontent.com/a-/AOh14GiC7qvXUzbZzLF0M7CsyVSkzNvxcrj2yiU0aL0f=s64",
      "userId": "03984596319727050126"
     },
     "user_tz": -60
    },
    "id": "lca5KvJljech"
   },
   "outputs": [],
   "source": [
    "from sklearn.impute import SimpleImputer\n",
    "imputer = SimpleImputer(missing_values=np.nan, strategy='mean')\n",
    "imputer.fit(x[:, 1:3])\n",
    "x[:, 1:3] = imputer.transform(x[:, 1:3])"
   ]
  },
  {
   "cell_type": "code",
   "execution_count": 6,
   "metadata": {
    "colab": {
     "base_uri": "https://localhost:8080/"
    },
    "executionInfo": {
     "elapsed": 235,
     "status": "ok",
     "timestamp": 1641911762890,
     "user": {
      "displayName": "Jhonatan Silva",
      "photoUrl": "https://lh3.googleusercontent.com/a-/AOh14GiC7qvXUzbZzLF0M7CsyVSkzNvxcrj2yiU0aL0f=s64",
      "userId": "03984596319727050126"
     },
     "user_tz": -60
    },
    "id": "naSLWoevkSAF",
    "outputId": "bd9c3f53-571a-4904-ed64-85846e57715e"
   },
   "outputs": [
    {
     "name": "stdout",
     "output_type": "stream",
     "text": [
      "[['France' 44.0 72000.0]\n",
      " ['Spain' 27.0 48000.0]\n",
      " ['Germany' 30.0 54000.0]\n",
      " ['Spain' 38.0 61000.0]\n",
      " ['Germany' 40.0 63777.77777777778]\n",
      " ['France' 35.0 58000.0]\n",
      " ['Spain' 38.77777777777778 52000.0]\n",
      " ['France' 48.0 79000.0]\n",
      " ['Germany' 50.0 83000.0]\n",
      " ['France' 37.0 67000.0]]\n"
     ]
    }
   ],
   "source": [
    "print(x)"
   ]
  },
  {
   "cell_type": "markdown",
   "metadata": {
    "id": "CriG6VzVSjcK"
   },
   "source": [
    "## Encoding categorical data"
   ]
  },
  {
   "cell_type": "markdown",
   "metadata": {
    "id": "AhSpdQWeSsFh"
   },
   "source": [
    "### Encoding the Independent Variable"
   ]
  },
  {
   "cell_type": "code",
   "execution_count": 7,
   "metadata": {
    "executionInfo": {
     "elapsed": 242,
     "status": "ok",
     "timestamp": 1641913348512,
     "user": {
      "displayName": "Jhonatan Silva",
      "photoUrl": "https://lh3.googleusercontent.com/a-/AOh14GiC7qvXUzbZzLF0M7CsyVSkzNvxcrj2yiU0aL0f=s64",
      "userId": "03984596319727050126"
     },
     "user_tz": -60
    },
    "id": "R3KaTO21pBiR"
   },
   "outputs": [],
   "source": [
    "from sklearn.compose import ColumnTransformer\n",
    "from sklearn.preprocessing import OneHotEncoder\n",
    "\n",
    "ct = ColumnTransformer(transformers=[('encoder', OneHotEncoder(), [0])], remainder='passthrough')\n",
    "x = np.array(ct.fit_transform(x))"
   ]
  },
  {
   "cell_type": "code",
   "execution_count": 8,
   "metadata": {
    "colab": {
     "base_uri": "https://localhost:8080/"
    },
    "executionInfo": {
     "elapsed": 329,
     "status": "ok",
     "timestamp": 1641913350557,
     "user": {
      "displayName": "Jhonatan Silva",
      "photoUrl": "https://lh3.googleusercontent.com/a-/AOh14GiC7qvXUzbZzLF0M7CsyVSkzNvxcrj2yiU0aL0f=s64",
      "userId": "03984596319727050126"
     },
     "user_tz": -60
    },
    "id": "0Mp280aJqV6_",
    "outputId": "1b197746-7741-4b52-906b-5729526a9b6a"
   },
   "outputs": [
    {
     "name": "stdout",
     "output_type": "stream",
     "text": [
      "[[1.0 0.0 0.0 44.0 72000.0]\n",
      " [0.0 0.0 1.0 27.0 48000.0]\n",
      " [0.0 1.0 0.0 30.0 54000.0]\n",
      " [0.0 0.0 1.0 38.0 61000.0]\n",
      " [0.0 1.0 0.0 40.0 63777.77777777778]\n",
      " [1.0 0.0 0.0 35.0 58000.0]\n",
      " [0.0 0.0 1.0 38.77777777777778 52000.0]\n",
      " [1.0 0.0 0.0 48.0 79000.0]\n",
      " [0.0 1.0 0.0 50.0 83000.0]\n",
      " [1.0 0.0 0.0 37.0 67000.0]]\n"
     ]
    }
   ],
   "source": [
    "print(x)"
   ]
  },
  {
   "cell_type": "markdown",
   "metadata": {
    "id": "DXh8oVSITIc6"
   },
   "source": [
    "### Encoding the Dependent Variable"
   ]
  },
  {
   "cell_type": "code",
   "execution_count": 9,
   "metadata": {
    "executionInfo": {
     "elapsed": 237,
     "status": "ok",
     "timestamp": 1641913438733,
     "user": {
      "displayName": "Jhonatan Silva",
      "photoUrl": "https://lh3.googleusercontent.com/a-/AOh14GiC7qvXUzbZzLF0M7CsyVSkzNvxcrj2yiU0aL0f=s64",
      "userId": "03984596319727050126"
     },
     "user_tz": -60
    },
    "id": "c_ceXXSuqZXQ"
   },
   "outputs": [],
   "source": [
    "from sklearn.preprocessing import LabelEncoder\n",
    "le = LabelEncoder()\n",
    "y = le.fit_transform(y)"
   ]
  },
  {
   "cell_type": "code",
   "execution_count": 10,
   "metadata": {
    "colab": {
     "base_uri": "https://localhost:8080/"
    },
    "executionInfo": {
     "elapsed": 251,
     "status": "ok",
     "timestamp": 1641913440056,
     "user": {
      "displayName": "Jhonatan Silva",
      "photoUrl": "https://lh3.googleusercontent.com/a-/AOh14GiC7qvXUzbZzLF0M7CsyVSkzNvxcrj2yiU0aL0f=s64",
      "userId": "03984596319727050126"
     },
     "user_tz": -60
    },
    "id": "2NGYVFhYqr_F",
    "outputId": "b6d5d80b-14d0-4971-e93e-993c13e47dc9"
   },
   "outputs": [
    {
     "name": "stdout",
     "output_type": "stream",
     "text": [
      "[0 1 0 0 1 1 0 1 0 1]\n"
     ]
    }
   ],
   "source": [
    "print(y)"
   ]
  },
  {
   "cell_type": "markdown",
   "metadata": {
    "id": "qb_vcgm3qZKW"
   },
   "source": [
    "## Splitting the dataset into the Training set and Test set"
   ]
  },
  {
   "cell_type": "code",
   "execution_count": 11,
   "metadata": {
    "executionInfo": {
     "elapsed": 220,
     "status": "ok",
     "timestamp": 1641914378596,
     "user": {
      "displayName": "Jhonatan Silva",
      "photoUrl": "https://lh3.googleusercontent.com/a-/AOh14GiC7qvXUzbZzLF0M7CsyVSkzNvxcrj2yiU0aL0f=s64",
      "userId": "03984596319727050126"
     },
     "user_tz": -60
    },
    "id": "1DfvK_MRt06a"
   },
   "outputs": [],
   "source": [
    "from sklearn.model_selection import train_test_split\n",
    "x_train, x_test, y_train, y_test = train_test_split(x, y, test_size=0.2, random_state=1)"
   ]
  },
  {
   "cell_type": "code",
   "execution_count": 12,
   "metadata": {
    "colab": {
     "base_uri": "https://localhost:8080/"
    },
    "executionInfo": {
     "elapsed": 239,
     "status": "ok",
     "timestamp": 1641914380188,
     "user": {
      "displayName": "Jhonatan Silva",
      "photoUrl": "https://lh3.googleusercontent.com/a-/AOh14GiC7qvXUzbZzLF0M7CsyVSkzNvxcrj2yiU0aL0f=s64",
      "userId": "03984596319727050126"
     },
     "user_tz": -60
    },
    "id": "fRV9ha_iuMYi",
    "outputId": "48b734c6-2180-4034-f9c7-4be982f04188"
   },
   "outputs": [
    {
     "name": "stdout",
     "output_type": "stream",
     "text": [
      "[[0.0 0.0 1.0 38.77777777777778 52000.0]\n",
      " [0.0 1.0 0.0 40.0 63777.77777777778]\n",
      " [1.0 0.0 0.0 44.0 72000.0]\n",
      " [0.0 0.0 1.0 38.0 61000.0]\n",
      " [0.0 0.0 1.0 27.0 48000.0]\n",
      " [1.0 0.0 0.0 48.0 79000.0]\n",
      " [0.0 1.0 0.0 50.0 83000.0]\n",
      " [1.0 0.0 0.0 35.0 58000.0]]\n"
     ]
    }
   ],
   "source": [
    "print(x_train)"
   ]
  },
  {
   "cell_type": "code",
   "execution_count": 13,
   "metadata": {
    "colab": {
     "base_uri": "https://localhost:8080/"
    },
    "executionInfo": {
     "elapsed": 218,
     "status": "ok",
     "timestamp": 1641914384171,
     "user": {
      "displayName": "Jhonatan Silva",
      "photoUrl": "https://lh3.googleusercontent.com/a-/AOh14GiC7qvXUzbZzLF0M7CsyVSkzNvxcrj2yiU0aL0f=s64",
      "userId": "03984596319727050126"
     },
     "user_tz": -60
    },
    "id": "oMkZb6vfuMRq",
    "outputId": "506c9ea0-3fd1-4c87-ac2c-560a004d3678"
   },
   "outputs": [
    {
     "name": "stdout",
     "output_type": "stream",
     "text": [
      "[[0.0 1.0 0.0 30.0 54000.0]\n",
      " [1.0 0.0 0.0 37.0 67000.0]]\n"
     ]
    }
   ],
   "source": [
    "print(x_test)"
   ]
  },
  {
   "cell_type": "code",
   "execution_count": 14,
   "metadata": {
    "colab": {
     "base_uri": "https://localhost:8080/"
    },
    "executionInfo": {
     "elapsed": 226,
     "status": "ok",
     "timestamp": 1641914386321,
     "user": {
      "displayName": "Jhonatan Silva",
      "photoUrl": "https://lh3.googleusercontent.com/a-/AOh14GiC7qvXUzbZzLF0M7CsyVSkzNvxcrj2yiU0aL0f=s64",
      "userId": "03984596319727050126"
     },
     "user_tz": -60
    },
    "id": "B3zDxSRBuMJV",
    "outputId": "26ff38d0-d848-4a84-c94f-8f7f8a30a1e2"
   },
   "outputs": [
    {
     "name": "stdout",
     "output_type": "stream",
     "text": [
      "[0 1 0 0 1 1 0 1]\n"
     ]
    }
   ],
   "source": [
    "print(y_train)"
   ]
  },
  {
   "cell_type": "code",
   "execution_count": 15,
   "metadata": {
    "colab": {
     "base_uri": "https://localhost:8080/"
    },
    "executionInfo": {
     "elapsed": 3,
     "status": "ok",
     "timestamp": 1641914388017,
     "user": {
      "displayName": "Jhonatan Silva",
      "photoUrl": "https://lh3.googleusercontent.com/a-/AOh14GiC7qvXUzbZzLF0M7CsyVSkzNvxcrj2yiU0aL0f=s64",
      "userId": "03984596319727050126"
     },
     "user_tz": -60
    },
    "id": "j0TQLerfuL8b",
    "outputId": "59a5d861-e0c7-4d41-9fc9-6bd7bb11e867"
   },
   "outputs": [
    {
     "name": "stdout",
     "output_type": "stream",
     "text": [
      "[0 1]\n"
     ]
    }
   ],
   "source": [
    "print(y_test)"
   ]
  },
  {
   "cell_type": "markdown",
   "metadata": {
    "id": "TpGqbS4TqkIR"
   },
   "source": [
    "## Feature Scaling"
   ]
  },
  {
   "cell_type": "code",
   "execution_count": 16,
   "metadata": {
    "executionInfo": {
     "elapsed": 225,
     "status": "ok",
     "timestamp": 1641916868236,
     "user": {
      "displayName": "Jhonatan Silva",
      "photoUrl": "https://lh3.googleusercontent.com/a-/AOh14GiC7qvXUzbZzLF0M7CsyVSkzNvxcrj2yiU0aL0f=s64",
      "userId": "03984596319727050126"
     },
     "user_tz": -60
    },
    "id": "D9QpFq723ZSw"
   },
   "outputs": [],
   "source": [
    "from sklearn.preprocessing import StandardScaler\n",
    "sc = StandardScaler()\n",
    "x_train[:, 3:] = sc.fit_transform(x_train[:, 3:])\n",
    "x_test[:, 3:] = sc.transform(x_test[:, 3:])"
   ]
  },
  {
   "cell_type": "code",
   "execution_count": 17,
   "metadata": {
    "colab": {
     "base_uri": "https://localhost:8080/"
    },
    "executionInfo": {
     "elapsed": 3,
     "status": "ok",
     "timestamp": 1641916871047,
     "user": {
      "displayName": "Jhonatan Silva",
      "photoUrl": "https://lh3.googleusercontent.com/a-/AOh14GiC7qvXUzbZzLF0M7CsyVSkzNvxcrj2yiU0aL0f=s64",
      "userId": "03984596319727050126"
     },
     "user_tz": -60
    },
    "id": "m0KLOoJB3ucC",
    "outputId": "6e17cb2d-8c6a-41ef-a270-55fb3dcfb1c2"
   },
   "outputs": [
    {
     "name": "stdout",
     "output_type": "stream",
     "text": [
      "[[0.0 0.0 1.0 -0.19159184384578545 -1.0781259408412425]\n",
      " [0.0 1.0 0.0 -0.014117293757057777 -0.07013167641635372]\n",
      " [1.0 0.0 0.0 0.566708506533324 0.633562432710455]\n",
      " [0.0 0.0 1.0 -0.30453019390224867 -0.30786617274297867]\n",
      " [0.0 0.0 1.0 -1.9018011447007988 -1.420463615551582]\n",
      " [1.0 0.0 0.0 1.1475343068237058 1.232653363453549]\n",
      " [0.0 1.0 0.0 1.4379472069688968 1.5749910381638885]\n",
      " [1.0 0.0 0.0 -0.7401495441200351 -0.5646194287757332]]\n"
     ]
    }
   ],
   "source": [
    "print(x_train)"
   ]
  },
  {
   "cell_type": "code",
   "execution_count": 18,
   "metadata": {
    "colab": {
     "base_uri": "https://localhost:8080/"
    },
    "executionInfo": {
     "elapsed": 228,
     "status": "ok",
     "timestamp": 1641916873289,
     "user": {
      "displayName": "Jhonatan Silva",
      "photoUrl": "https://lh3.googleusercontent.com/a-/AOh14GiC7qvXUzbZzLF0M7CsyVSkzNvxcrj2yiU0aL0f=s64",
      "userId": "03984596319727050126"
     },
     "user_tz": -60
    },
    "id": "bpVd_3MS3uS6",
    "outputId": "9640395e-4f40-40f4-a3e3-be136b80fc35"
   },
   "outputs": [
    {
     "name": "stdout",
     "output_type": "stream",
     "text": [
      "[[0.0 1.0 0.0 -1.4661817944830124 -0.9069571034860727]\n",
      " [1.0 0.0 0.0 -0.44973664397484414 0.2056403393225306]]\n"
     ]
    }
   ],
   "source": [
    "print(x_test)"
   ]
  },
  {
   "cell_type": "code",
   "execution_count": null,
   "metadata": {},
   "outputs": [],
   "source": []
  }
 ],
 "metadata": {
  "colab": {
   "collapsed_sections": [],
   "name": "data_preprocessing_tools.ipynb",
   "provenance": []
  },
  "kernelspec": {
   "display_name": "Python 3 (ipykernel)",
   "language": "python",
   "name": "python3"
  },
  "language_info": {
   "codemirror_mode": {
    "name": "ipython",
    "version": 3
   },
   "file_extension": ".py",
   "mimetype": "text/x-python",
   "name": "python",
   "nbconvert_exporter": "python",
   "pygments_lexer": "ipython3",
   "version": "3.9.13"
  }
 },
 "nbformat": 4,
 "nbformat_minor": 1
}
